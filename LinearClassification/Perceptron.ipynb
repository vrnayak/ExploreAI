{
 "cells": [
  {
   "cell_type": "markdown",
   "metadata": {},
   "source": [
    "# Linear Classification w/ Perceptron Algorithm\n",
    "\n",
    "In this notebook, we will be using the Perceptron Algorithm for a binary linear classification task. We will use a function to generate our own data (to ensure linear separability so that our algorithm converges) and then apply our Perceptron algorithm to compare the learned decision boundary to the original."
   ]
  },
  {
   "cell_type": "markdown",
   "metadata": {},
   "source": [
    "## Step 1: Import Libraries & Define Constants"
   ]
  },
  {
   "cell_type": "code",
   "execution_count": 1,
   "metadata": {},
   "outputs": [],
   "source": [
    "import numpy as np\n",
    "import matplotlib.pyplot as plt\n",
    "from Classifiers.Perceptron import Perceptron"
   ]
  },
  {
   "cell_type": "code",
   "execution_count": 2,
   "metadata": {},
   "outputs": [],
   "source": [
    "# Constants\n",
    "DIM = 2      # Dimension of dataset\n",
    "SIZE = 50   # Number of points in dataset\n",
    "\n",
    "# Needed for choosing random data points\n",
    "LOWER_BOUND = -10\n",
    "UPPER_BOUND = 10"
   ]
  },
  {
   "cell_type": "markdown",
   "metadata": {},
   "source": [
    "## Step 2: Generate Dataset\n",
    "\n",
    "To generate our dataset, we will start by using `numpy.random.rand` to create an arbitrary normal vector $\\theta$ and offset value that describes our desired decision boundary $\\theta \\cdot \\vec{x} + b = 0$. We will then randomly choose data points to form the dataset and label them using our decision boundary. "
   ]
  },
  {
   "cell_type": "code",
   "execution_count": 3,
   "metadata": {},
   "outputs": [],
   "source": [
    "# Generate a theta and offset\n",
    "theta = np.random.rand(DIM)\n",
    "offset = np.random.randint(LOWER_BOUND, UPPER_BOUND)\n",
    "\n",
    "# Generate dataset\n",
    "dataset = np.random.rand(SIZE, DIM) * (UPPER_BOUND - LOWER_BOUND) + LOWER_BOUND\n",
    "\n",
    "# Label data points accordingly\n",
    "labels = np.dot(dataset, theta) + offset\n",
    "labels[labels > 0] = 1\n",
    "labels[labels <= 0] = -1"
   ]
  },
  {
   "cell_type": "markdown",
   "metadata": {},
   "source": [
    "## Step 3: Run Perceptron Algorithm on Dataset\n",
    "\n",
    "Now that we have our dataset, we can initialize our Perceptron algorithm and train it on this dataset."
   ]
  },
  {
   "cell_type": "code",
   "execution_count": 4,
   "metadata": {},
   "outputs": [
    {
     "name": "stdout",
     "output_type": "stream",
     "text": [
      "Dimensionality: 2\n",
      "Number of Datapoints: 50\n",
      "\n",
      "Number of Updates: 113\n",
      "Final Decision Boundary: [-0.71166467 20.5408827 ]\n",
      "Final Offset Value: 37.0\n"
     ]
    }
   ],
   "source": [
    "classifier = Perceptron(dimension=DIM, verbose=True)\n",
    "theta_pred, offset_pred = classifier.train(dataset, labels)"
   ]
  },
  {
   "cell_type": "markdown",
   "metadata": {},
   "source": [
    "## Step 4: Visualize Decision Boundary\n",
    "\n",
    "Finally, we want to visualize our decision boundary and determine whether it really worked. To do this, we can use `plt.plot` from the `matplotlib` library to plot the individual data points from our dataset (color coded by positive or negative label). Then, we can superimpose the decision boundary learned by our algorithm to determine whether it effectively classified the data. "
   ]
  },
  {
   "cell_type": "code",
   "execution_count": 6,
   "metadata": {},
   "outputs": [
    {
     "data": {
      "image/png": "[encoded data removed]",
      "text/plain": [
       "<Figure size 864x576 with 1 Axes>"
      ]
     },
     "metadata": {
      "needs_background": "light"
     },
     "output_type": "display_data"
    }
   ],
   "source": [
    "def abline(slope, intercept, color):\n",
    "    \"\"\"Plot a line from slope and intercept\"\"\"\n",
    "    axes = plt.gca()\n",
    "    x_vals = np.array(axes.get_xlim())\n",
    "    y_vals = intercept + slope * x_vals\n",
    "    plt.plot(x_vals, y_vals, '--', color=color)\n",
    "\n",
    "# Determine positive & negative datasets\n",
    "pos = dataset[labels == 1]\n",
    "neg = dataset[labels == -1]\n",
    "\n",
    "# Plot scatter plot of these datasets\n",
    "plt.figure(figsize=(12, 8))\n",
    "plt.title('Linear Decision Boundary Learned by Perceptron Algorithm', fontsize='xx-large')\n",
    "plt.plot(pos[:, 0], pos[:, 1], 'o', color='green')\n",
    "plt.plot(neg[:, 0], neg[:, 1], 'o', color='red')\n",
    "\n",
    "# Plot Perceptron decision boundary\n",
    "abline(-1 * theta_pred[0] / theta_pred[1], -1 * offset_pred / theta_pred[1], 'black')\n",
    "\n",
    "# Styling\n",
    "ax = plt.gca()\n",
    "\n",
    "# Show coordinate axes\n",
    "ax.axhline(y=0, color='gray')\n",
    "ax.axvline(x=0, color='gray')\n",
    "\n",
    "ax.spines['top'].set_color('none')\n",
    "ax.spines['left'].set_color('none')\n",
    "ax.spines['bottom'].set_color('none')\n",
    "ax.spines['right'].set_color('none')\n",
    "\n",
    "ax.spines['bottom'].set_position('zero')\n",
    "ax.spines['left'].set_position('zero')\n"
   ]
  },
  {
   "cell_type": "code",
   "execution_count": null,
   "metadata": {},
   "outputs": [],
   "source": []
  }
 ],
 "metadata": {
  "kernelspec": {
   "display_name": "env",
   "language": "python",
   "name": "env"
  },
  "language_info": {
   "codemirror_mode": {
    "name": "ipython",
    "version": 3
   },
   "file_extension": ".py",
   "mimetype": "text/x-python",
   "name": "python",
   "nbconvert_exporter": "python",
   "pygments_lexer": "ipython3",
   "version": "3.8.3"
  }
 },
 "nbformat": 4,
 "nbformat_minor": 4
}
